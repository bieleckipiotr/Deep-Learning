{
 "cells": [
  {
   "cell_type": "code",
   "execution_count": null,
   "metadata": {},
   "outputs": [],
   "source": [
    "import os\n",
    "os.environ['TF_CPP_MIN_LOG_LEVEL'] = '2' \n",
    "import tensorflow as tf\n",
    "from tensorflow.keras import datasets, layers, models, losses, Model, utils\n",
    "import time\n",
    "import numpy as np\n",
    "data_dir = './data/cinic-10_image_classification_challenge-dataset/train/'"
   ]
  },
  {
   "cell_type": "code",
   "execution_count": null,
   "metadata": {},
   "outputs": [],
   "source": [
    "print(\"Num GPUs Available: \", len(tf.config.list_physical_devices('GPU')))"
   ]
  },
  {
   "cell_type": "code",
   "execution_count": null,
   "metadata": {},
   "outputs": [],
   "source": [
    "train_dataset = utils.image_dataset_from_directory(\n",
    "    \"./data/cinic-10_image_classification_challenge-dataset/train\",\n",
    "    image_size=(32, 32),\n",
    "    label_mode=\"categorical\",\n",
    "    seed=123,\n",
    ")"
   ]
  },
  {
   "cell_type": "markdown",
   "metadata": {},
   "source": [
    "## Resnet gridsearch"
   ]
  },
  {
   "cell_type": "code",
   "execution_count": null,
   "metadata": {},
   "outputs": [],
   "source": [
    "base_model101 = tf.keras.applications.ResNet101(weights = 'imagenet', include_top = False, input_shape = (32,32,3))\n",
    "for layer in base_model101.layers:\n",
    "  layer.trainable = False\n",
    "\n",
    "\n",
    "base_model50 = tf.keras.applications.ResNet50(weights = 'imagenet', include_top = False, input_shape = (32,32,3))\n",
    "for layer in base_model50.layers:\n",
    "  layer.trainable = False"
   ]
  },
  {
   "cell_type": "code",
   "execution_count": null,
   "metadata": {},
   "outputs": [],
   "source": [
    "with open('results.txt', 'a') as file:\n",
    "    for model, model_nr in zip([base_model50, base_model101], ['50', '101']):\n",
    "        for optimize_algo in ['SGD', 'Adam', 'Adagrad']:\n",
    "            for activation_func in ['relu', 'linear', 'softmax']:\n",
    "                for regularization_algo, regularization_algo_name in zip([tf.keras.regularizers.L1, tf.keras.regularizers.L2], ['l1', 'l2']):\n",
    "                    for l in [0.1, 0.3, 0.5]:\n",
    "\n",
    "                        x = layers.Flatten()(model.output)\n",
    "                        x = layers.Dense(1000, activation=activation_func, kernel_regularizer=regularization_algo(l))(x)\n",
    "                        predictions = layers.Dense(10, activation = 'softmax')(x)\n",
    "\n",
    "                        head_model = Model(inputs = model.input, outputs = predictions)\n",
    "                        head_model.compile(optimizer=optimize_algo, loss=\"categorical_crossentropy\", metrics=[\"accuracy\"])\n",
    "\n",
    "                        history = head_model.fit(train_dataset, epochs=3)\n",
    "                        print(model_nr, optimize_algo, activation_func, regularization_algo_name, l, max(history.history['accuracy']))\n",
    "                        file.write(model_nr + ' ' + optimize_algo + ' ' + activation_func + ' ' + regularization_algo_name + ' ' + str(l) + ' ' + str(max(history.history['accuracy'])) + '\\n')"
   ]
  },
  {
   "cell_type": "markdown",
   "metadata": {},
   "source": [
    "## show results"
   ]
  },
  {
   "cell_type": "code",
   "execution_count": null,
   "metadata": {},
   "outputs": [],
   "source": [
    "import pandas as pd\n",
    "pd.options.display.max_rows = 4000\n",
    "\n",
    "data = pd.read_csv('results.txt', sep=' ', header=None)\n",
    "\n",
    "data.sort_values(5, ascending=False)"
   ]
  },
  {
   "cell_type": "markdown",
   "metadata": {},
   "source": [
    "## Continue training of pretrained resnet50 and resent101"
   ]
  },
  {
   "cell_type": "code",
   "execution_count": null,
   "metadata": {},
   "outputs": [],
   "source": [
    "base_model50 = tf.keras.applications.ResNet50(weights = 'imagenet', include_top = False, input_shape = (32,32,3))\n",
    "for layer in base_model50.layers:\n",
    "  layer.trainable = False\n",
    "\n",
    "x = layers.Flatten()(base_model50.output)\n",
    "x = layers.Dense(1000, activation='relu', kernel_regularizer=tf.keras.regularizers.L2(0.1))(x)\n",
    "predictions = layers.Dense(10, activation = 'softmax')(x)\n",
    "\n",
    "head_model50 = Model(inputs = base_model50.input, outputs = predictions)\n",
    "head_model50.compile(optimizer=\"Adagrad\", loss=\"categorical_crossentropy\", metrics=[\"accuracy\"])\n",
    "\n",
    "history50 = head_model50.fit(train_dataset, epochs=50)"
   ]
  },
  {
   "cell_type": "code",
   "execution_count": null,
   "metadata": {},
   "outputs": [],
   "source": [
    "base_model101 = tf.keras.applications.ResNet101(weights = 'imagenet', include_top = False, input_shape = (32,32,3))\n",
    "for layer in base_model101.layers:\n",
    "  layer.trainable = False\n",
    "\n",
    "x = layers.Flatten()(base_model101.output)\n",
    "x = layers.Dense(1000, activation='relu', kernel_regularizer=tf.keras.regularizers.L2(0.1))(x)\n",
    "predictions = layers.Dense(10, activation = 'softmax')(x)\n",
    "\n",
    "head_model101 = Model(inputs = base_model101.input, outputs = predictions)\n",
    "head_model101.compile(optimizer=\"Adagrad\", loss=\"categorical_crossentropy\", metrics=[\"accuracy\"])\n",
    "\n",
    "history101 = head_model101.fit(train_dataset, epochs=50)"
   ]
  },
  {
   "cell_type": "markdown",
   "metadata": {},
   "source": [
    "## Full training of ResNet50"
   ]
  },
  {
   "cell_type": "code",
   "execution_count": null,
   "metadata": {},
   "outputs": [],
   "source": [
    "train_ds = utils.image_dataset_from_directory(\n",
    "    './data/cinic-10_image_classification_challenge-dataset/train/',\n",
    "    validation_split=0.2,\n",
    "    subset='training',\n",
    "    seed = 420,\n",
    "    image_size=(32,32),\n",
    "    batch_size=32,\n",
    "    label_mode = 'categorical')\n",
    "\n",
    "class_names = train_ds.class_names\n",
    "\n",
    "val_ds = utils.image_dataset_from_directory(\n",
    "    './data/cinic-10_image_classification_challenge-dataset/train/',\n",
    "    validation_split=0.2,\n",
    "    subset='validation',\n",
    "    seed = 420,\n",
    "    image_size=(32,32),\n",
    "    batch_size=32,\n",
    "    label_mode = 'categorical')"
   ]
  },
  {
   "cell_type": "code",
   "execution_count": null,
   "metadata": {},
   "outputs": [],
   "source": [
    "base_model50 = tf.keras.applications.ResNet50(weights = 'imagenet', include_top = False, input_shape = (32,32,3))\n",
    "for layer in base_model50.layers:\n",
    "  layer.trainable = True\n",
    "\n",
    "x = layers.Flatten()(base_model50.output)\n",
    "x = layers.Dense(1000, activation='relu', kernel_regularizer=tf.keras.regularizers.L2(0.1))(x)\n",
    "predictions = layers.Dense(10, activation = 'softmax')(x)\n",
    "\n",
    "head_model50 = Model(inputs = base_model50.input, outputs = predictions)\n",
    "head_model50.compile(optimizer=\"Adagrad\", loss=\"categorical_crossentropy\", metrics=[\"accuracy\"])\n",
    "\n",
    "history50 = head_model50.fit(train_ds, epochs=20)"
   ]
  },
  {
   "cell_type": "code",
   "execution_count": null,
   "metadata": {},
   "outputs": [],
   "source": [
    "head_model50.save_weights(\"./weights/resnet50_full_training\")"
   ]
  }
 ],
 "metadata": {
  "kernelspec": {
   "display_name": "Python 3 (ipykernel)",
   "language": "python",
   "name": "python3"
  }
 },
 "nbformat": 4,
 "nbformat_minor": 2
}
