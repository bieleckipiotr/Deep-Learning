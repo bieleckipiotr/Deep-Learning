{
 "cells": [
  {
   "cell_type": "code",
   "execution_count": 16,
   "metadata": {},
   "outputs": [],
   "source": [
    "import tensorflow as tf\n",
    "from tensorflow.keras import layers, models\n",
    "import os\n",
    "import time\n",
    "import numpy as np\n",
    "from matplotlib import pyplot as plt\n",
    "data_dir = './data/cinic-10_image_classification_challenge-dataset'\n",
    "from tensorflow.keras.regularizers import l1_l2\n",
    "input_shape = (32, 32, 3)"
   ]
  },
  {
   "cell_type": "markdown",
   "metadata": {},
   "source": [
    "# load data"
   ]
  },
  {
   "cell_type": "code",
   "execution_count": 31,
   "metadata": {},
   "outputs": [],
   "source": [
    "def load_and_preprocess_image(image_path, label):\n",
    "    # Load image\n",
    "    image = tf.io.read_file(image_path)\n",
    "    # Decode PNG image to tensor\n",
    "    image = tf.image.decode_png(image, channels=3)  # Adjust channels according to your images\n",
    "    # Normalize pixel values to range [0, 1]\n",
    "    image = tf.image.convert_image_dtype(image, tf.float32)\n",
    "    return image, label\n",
    "\n",
    "\n",
    "def preprocess_data():\n",
    "    data_dir = './data/cinic-10_image_classification_challenge-dataset'\n",
    "\n",
    "    class_names = os.listdir(data_dir + '/train/')\n",
    "    label_dict = {i : label for i, label in enumerate(os.listdir(data_dir + '/train/'))}\n",
    "\n",
    "    image_paths = []\n",
    "    labels = []\n",
    "    train_dir = data_dir + '/train/'\n",
    "    for class_name in class_names:\n",
    "        class_dir = os.path.join(train_dir, class_name)\n",
    "        for image_name in os.listdir(class_dir):\n",
    "            image_path = os.path.join(class_dir, image_name)\n",
    "            image_paths.append(image_path)\n",
    "            labels.append(class_names.index(class_name))\n",
    "\n",
    "    # Create TensorFlow Dataset from the loaded data\n",
    "    train_dataset = tf.data.Dataset.from_tensor_slices((image_paths, labels))\n",
    "    train_dataset = train_dataset.map(load_and_preprocess_image)\n",
    "\n",
    "    test_dir = data_dir + '/test/'\n",
    "    for class_name in class_names:\n",
    "        class_dir = os.path.join(train_dir, class_name)\n",
    "        for image_name in os.listdir(class_dir):\n",
    "            image_path = os.path.join(class_dir, image_name)\n",
    "            image_paths.append(image_path)\n",
    "            labels.append(class_names.index(class_name))\n",
    "\n",
    "    # Create TensorFlow Dataset from the loaded data\n",
    "    test_dataset = tf.data.Dataset.from_tensor_slices((image_paths, labels))\n",
    "    test_dataset = test_dataset.map(load_and_preprocess_image)\n",
    "\n",
    "    dataset = train_dataset.shuffle(buffer_size=10000)\n",
    "\n",
    "# Split the dataset into train, validation, and test sets\n",
    "    train_size = int(0.8 * len(dataset))\n",
    "    val_size = int(0.2 * len(dataset))\n",
    "\n",
    "    train_dataset = dataset.take(train_size)\n",
    "    val_dataset = dataset.skip(train_size).take(val_size)\n",
    "    train_dataset = train_dataset.shuffle(buffer_size=len(image_paths)).batch(32)\n",
    "    val_dataset = val_dataset.shuffle(buffer_size=len(image_paths)).batch(32)\n",
    "    test_dataset = test_dataset.shuffle(buffer_size=len(image_paths)).batch(32)\n",
    "    return train_dataset, val_dataset, test_dataset\n",
    "\n",
    "label_dict = {i : label for i, label in enumerate(os.listdir(data_dir + '/train/'))}"
   ]
  },
  {
   "cell_type": "markdown",
   "metadata": {},
   "source": [
    "# pre-made dataset from cifar dataset"
   ]
  },
  {
   "cell_type": "code",
   "execution_count": 32,
   "metadata": {},
   "outputs": [],
   "source": [
    "train_dataset, val_dataset, test_dataset = preprocess_data()"
   ]
  },
  {
   "cell_type": "markdown",
   "metadata": {},
   "source": [
    "# CNN definition"
   ]
  },
  {
   "cell_type": "code",
   "execution_count": 33,
   "metadata": {},
   "outputs": [],
   "source": [
    "def cnn(input_shape, elastic_net = False, l1 = 0.01, l2 = 0.01):\n",
    "    model = models.Sequential()\n",
    "\n",
    "    # Convolutional layers\n",
    "    model.add(layers.Conv2D(32, (3, 3), activation='relu', input_shape=input_shape, kernel_regularizer = l1_l2(l1, l2))) # output shape is 30x30x32\n",
    "    model.add(layers.MaxPooling2D((2, 2))) # output shape is 15x15x32\n",
    "    model.add(layers.Conv2D(64, (3, 3), activation='relu', kernel_regularizer = l1_l2(l1, l2)) ) # output shape is 13x13x64\n",
    "    model.add(layers.MaxPooling2D((2, 2))) # output shape is 6x6x64\n",
    "    model.add(layers.Conv2D(64, (3, 3), activation='relu', kernel_regularizer = l1_l2(l1, l2)) ) #4x4x64\n",
    "\n",
    "    # Dense layer\n",
    "    model.add(layers.Flatten()) # 1024\n",
    "    model.add(layers.Dense(64, activation='relu'))\n",
    "    model.add(layers.Dense(10, activation='softmax'))\n",
    "\n",
    "    return model"
   ]
  },
  {
   "cell_type": "markdown",
   "metadata": {},
   "source": [
    "### searching for elastic net regularizer\n",
    "grid search, because there's two parameters - l1 and l2"
   ]
  },
  {
   "cell_type": "code",
   "execution_count": 34,
   "metadata": {},
   "outputs": [
    {
     "name": "stdout",
     "output_type": "stream",
     "text": [
      "Epoch 1/3\n",
      "WARNING:tensorflow:From C:\\Users\\mipec\\AppData\\Local\\Packages\\PythonSoftwareFoundation.Python.3.10_qbz5n2kfra8p0\\LocalCache\\local-packages\\Python310\\site-packages\\keras\\src\\utils\\tf_utils.py:492: The name tf.ragged.RaggedTensorValue is deprecated. Please use tf.compat.v1.ragged.RaggedTensorValue instead.\n",
      "\n",
      "WARNING:tensorflow:From C:\\Users\\mipec\\AppData\\Local\\Packages\\PythonSoftwareFoundation.Python.3.10_qbz5n2kfra8p0\\LocalCache\\local-packages\\Python310\\site-packages\\keras\\src\\engine\\base_layer_utils.py:384: The name tf.executing_eagerly_outside_functions is deprecated. Please use tf.compat.v1.executing_eagerly_outside_functions instead.\n",
      "\n",
      "2247/2250 [============================>.] - ETA: 0s - loss: 1.5761 - accuracy: 0.4153"
     ]
    }
   ],
   "source": [
    "histories = {}\n",
    "optimizer = tf.keras.optimizers.Adam(learning_rate=0.001)\n",
    "l1_range = np.linspace(0, 1, 10)  # Example: 10 values between 0 and 1\n",
    "l2_range = np.linspace(0, 1, 10)  # Example: 10 values between 0 and 1\n",
    "\n",
    "# Generate candidate combinations using grid search\n",
    "search_space = [(l1, l2) for l1 in l1_range for l2 in l2_range]\n",
    "for l1, l2 in search_space:\n",
    "    model = cnn(input_shape, True, l1, l2)\n",
    "    model.compile(optimizer=optimizer,\n",
    "            loss='sparse_categorical_crossentropy',\n",
    "            metrics=['accuracy'])\n",
    "    history = model.fit(train_dataset, epochs = 3, validation_data = val_dataset)    \n",
    "    test_loss, test_acc = model.evaluate(test_dataset)\n",
    "    histories[(l1, l2)] = {'history': history.history,\n",
    "                        'test_loss': test_loss,\n",
    "                        'test_acc': test_acc}"
   ]
  },
  {
   "cell_type": "code",
   "execution_count": 24,
   "metadata": {},
   "outputs": [
    {
     "name": "stdout",
     "output_type": "stream",
     "text": [
      "Epoch 1/30\n"
     ]
    },
    {
     "name": "stdout",
     "output_type": "stream",
     "text": [
      "2250/2250 [==============================] - 31s 13ms/step - loss: 0.5060 - accuracy: 0.8172 - val_loss: 1.1328 - val_accuracy: 0.6058\n",
      "Epoch 2/30\n",
      "2250/2250 [==============================] - 32s 14ms/step - loss: 0.4919 - accuracy: 0.8218 - val_loss: 0.9358 - val_accuracy: 0.6945\n",
      "Epoch 3/30\n",
      "2250/2250 [==============================] - 32s 14ms/step - loss: 0.4777 - accuracy: 0.8278 - val_loss: 1.1143 - val_accuracy: 0.6285\n",
      "Epoch 4/30\n",
      "2250/2250 [==============================] - 32s 14ms/step - loss: 0.4705 - accuracy: 0.8314 - val_loss: 1.1142 - val_accuracy: 0.6506\n",
      "Epoch 5/30\n",
      "2250/2250 [==============================] - 31s 13ms/step - loss: 0.4559 - accuracy: 0.8346 - val_loss: 1.0527 - val_accuracy: 0.6574\n",
      "Epoch 6/30\n",
      "2250/2250 [==============================] - 31s 14ms/step - loss: 0.4464 - accuracy: 0.8376 - val_loss: 1.1915 - val_accuracy: 0.6466\n",
      "Epoch 7/30\n",
      "2250/2250 [==============================] - 32s 14ms/step - loss: 0.4327 - accuracy: 0.8433 - val_loss: 1.3384 - val_accuracy: 0.6148\n",
      "Epoch 8/30\n",
      "2250/2250 [==============================] - 32s 14ms/step - loss: 0.4258 - accuracy: 0.8475 - val_loss: 1.3817 - val_accuracy: 0.6164\n",
      "Epoch 9/30\n",
      "2250/2250 [==============================] - 31s 13ms/step - loss: 0.4178 - accuracy: 0.8515 - val_loss: 1.1576 - val_accuracy: 0.6574\n",
      "Epoch 10/30\n",
      "2250/2250 [==============================] - 33s 14ms/step - loss: 0.4037 - accuracy: 0.8575 - val_loss: 1.3100 - val_accuracy: 0.6144\n",
      "Epoch 11/30\n",
      "2250/2250 [==============================] - 32s 14ms/step - loss: 0.3946 - accuracy: 0.8591 - val_loss: 0.9543 - val_accuracy: 0.6965\n",
      "Epoch 12/30\n",
      "2250/2250 [==============================] - 33s 14ms/step - loss: 0.3865 - accuracy: 0.8617 - val_loss: 1.4064 - val_accuracy: 0.5988\n",
      "Epoch 13/30\n",
      "2250/2250 [==============================] - 33s 14ms/step - loss: 0.3749 - accuracy: 0.8672 - val_loss: 1.6917 - val_accuracy: 0.6008\n",
      "Epoch 14/30\n",
      "2250/2250 [==============================] - 32s 14ms/step - loss: 0.3701 - accuracy: 0.8703 - val_loss: 1.5318 - val_accuracy: 0.5708\n",
      "Epoch 15/30\n",
      "2250/2250 [==============================] - 32s 14ms/step - loss: 0.3575 - accuracy: 0.8737 - val_loss: 1.4172 - val_accuracy: 0.6181\n",
      "Epoch 16/30\n",
      "2250/2250 [==============================] - 32s 14ms/step - loss: 0.3530 - accuracy: 0.8761 - val_loss: 1.4014 - val_accuracy: 0.6041\n",
      "Epoch 17/30\n",
      "2250/2250 [==============================] - 32s 14ms/step - loss: 0.3447 - accuracy: 0.8797 - val_loss: 1.4648 - val_accuracy: 0.5917\n",
      "Epoch 18/30\n",
      "2250/2250 [==============================] - 32s 14ms/step - loss: 0.3432 - accuracy: 0.8797 - val_loss: 1.4938 - val_accuracy: 0.5859\n",
      "Epoch 19/30\n",
      "2250/2250 [==============================] - 31s 14ms/step - loss: 0.3331 - accuracy: 0.8835 - val_loss: 1.6061 - val_accuracy: 0.6455\n",
      "Epoch 20/30\n",
      "2250/2250 [==============================] - 32s 14ms/step - loss: 0.3298 - accuracy: 0.8852 - val_loss: 1.8015 - val_accuracy: 0.5805\n",
      "Epoch 21/30\n",
      "2250/2250 [==============================] - 31s 14ms/step - loss: 0.3181 - accuracy: 0.8882 - val_loss: 1.8138 - val_accuracy: 0.5906\n",
      "Epoch 22/30\n",
      "2250/2250 [==============================] - 31s 13ms/step - loss: 0.3094 - accuracy: 0.8921 - val_loss: 1.8196 - val_accuracy: 0.6009\n",
      "Epoch 23/30\n",
      "2250/2250 [==============================] - 32s 14ms/step - loss: 0.3086 - accuracy: 0.8941 - val_loss: 1.3329 - val_accuracy: 0.6757\n",
      "Epoch 24/30\n",
      "2250/2250 [==============================] - 30s 13ms/step - loss: 0.3050 - accuracy: 0.8946 - val_loss: 1.6847 - val_accuracy: 0.6146\n",
      "Epoch 25/30\n",
      "2250/2250 [==============================] - 29s 13ms/step - loss: 0.2911 - accuracy: 0.8995 - val_loss: 1.6973 - val_accuracy: 0.6237\n",
      "Epoch 26/30\n",
      "2250/2250 [==============================] - 30s 13ms/step - loss: 0.2966 - accuracy: 0.8986 - val_loss: 1.5307 - val_accuracy: 0.6323\n",
      "Epoch 27/30\n",
      "2250/2250 [==============================] - 29s 13ms/step - loss: 0.2854 - accuracy: 0.9019 - val_loss: 1.4663 - val_accuracy: 0.6411\n",
      "Epoch 28/30\n",
      "2250/2250 [==============================] - 29s 13ms/step - loss: 0.2796 - accuracy: 0.9038 - val_loss: 1.5673 - val_accuracy: 0.6301\n",
      "Epoch 29/30\n",
      "2250/2250 [==============================] - 30s 13ms/step - loss: 0.2764 - accuracy: 0.9049 - val_loss: 1.9491 - val_accuracy: 0.5669\n",
      "Epoch 30/30\n",
      "2250/2250 [==============================] - 31s 13ms/step - loss: 0.2703 - accuracy: 0.9081 - val_loss: 1.8370 - val_accuracy: 0.5917\n",
      "5625/5625 [==============================] - 29s 5ms/step - loss: 2.3690 - accuracy: 0.4291\n"
     ]
    }
   ],
   "source": [
    "history = model.fit(train_dataset, epochs=30, validation_data=val_dataset)\n",
    "test_loss, test_acc = model.evaluate(test_dataset)"
   ]
  },
  {
   "cell_type": "code",
   "execution_count": 49,
   "metadata": {},
   "outputs": [
    {
     "data": {
      "text/plain": [
       "<matplotlib.legend.Legend at 0x1ef4a782ec0>"
      ]
     },
     "execution_count": 49,
     "metadata": {},
     "output_type": "execute_result"
    },
    {
     "data": {
      "image/png": "[encoded data removed]",
      "text/plain": [
       "<Figure size 432x288 with 1 Axes>"
      ]
     },
     "metadata": {
      "needs_background": "light"
     },
     "output_type": "display_data"
    }
   ],
   "source": [
    "plt.plot(history.history['val_loss'], label = 'val loss')\n",
    "plt.plot(history.history['loss'], c = 'red', label = 'train loss')\n",
    "plt.legend()"
   ]
  },
  {
   "cell_type": "code",
   "execution_count": 50,
   "metadata": {},
   "outputs": [
    {
     "data": {
      "text/plain": [
       "<matplotlib.legend.Legend at 0x1ef4a7c3730>"
      ]
     },
     "execution_count": 50,
     "metadata": {},
     "output_type": "execute_result"
    },
    {
     "data": {
      "image/png": "[encoded data removed]",
      "text/plain": [
       "<Figure size 432x288 with 1 Axes>"
      ]
     },
     "metadata": {
      "needs_background": "light"
     },
     "output_type": "display_data"
    }
   ],
   "source": [
    "plt.plot(history.history['val_accuracy'], label = 'val acc')\n",
    "plt.plot(history.history['accuracy'], c = 'red', label = 'train acc')\n",
    "plt.legend()"
   ]
  },
  {
   "cell_type": "code",
   "execution_count": null,
   "metadata": {},
   "outputs": [],
   "source": []
  }
 ],
 "metadata": {
  "kernelspec": {
   "display_name": "Python 3",
   "language": "python",
   "name": "python3"
  },
  "language_info": {
   "codemirror_mode": {
    "name": "ipython",
    "version": 3
   },
   "file_extension": ".py",
   "mimetype": "text/x-python",
   "name": "python",
   "nbconvert_exporter": "python",
   "pygments_lexer": "ipython3",
   "version": "3.10.11"
  }
 },
 "nbformat": 4,
 "nbformat_minor": 2
}
