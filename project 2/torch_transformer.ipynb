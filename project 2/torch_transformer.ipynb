{
 "cells": [
  {
   "cell_type": "code",
   "execution_count": 1,
   "metadata": {},
   "outputs": [],
   "source": [
    "# vision transformer for mel-spectrograms"
   ]
  },
  {
   "cell_type": "code",
   "execution_count": 4,
   "metadata": {},
   "outputs": [
    {
     "name": "stdout",
     "output_type": "stream",
     "text": [
      "cuda ['soundfile']\n"
     ]
    }
   ],
   "source": [
    "import librosa\n",
    "from torch import nn\n",
    "import torch\n",
    "import torchaudio\n",
    "from torch.utils.data import Dataset\n",
    "import os\n",
    "import soundfile\n",
    "from torch.utils.data import DataLoader, random_split\n",
    "torch.random.manual_seed(0)\n",
    "device = torch.device(\"cuda\" if torch.cuda.is_available() else \"cpu\")\n",
    "print(device, torchaudio.list_audio_backends())\n",
    "TRAIN_DIR = './data/train/binary_classification/yes_no/'"
   ]
  },
  {
   "cell_type": "code",
   "execution_count": 24,
   "metadata": {},
   "outputs": [],
   "source": [
    "# loading data to dataset:\n",
    "class MFCCDataset(Dataset):\n",
    "\n",
    "    def __init__(self, directory):\n",
    "        self.directory = directory\n",
    "        self.classes = os.listdir(directory)\n",
    "        paths = []\n",
    "        for cl in self.classes:\n",
    "            tmp = [os.path.join(directory+cl, path) for path in os.listdir(directory + cl)]\n",
    "            paths+=tmp\n",
    "        self.paths = paths\n",
    "    \n",
    "    \n",
    "    def __len__(self):\n",
    "        \n",
    "        return len(self.paths)\n",
    "    \n",
    "    def __getitem__(self, index):\n",
    "        audio_sample_path = self.paths[index]\n",
    "        label = self.paths[index].split('/')[-1].split('\\\\')[0]\n",
    "\n",
    "        signal, sr = torchaudio.load(audio_sample_path, format = 'wav')\n",
    "        signal = signal.numpy().ravel()\n",
    "        mfcc = librosa.feature.mfcc(y = signal, sr = sr, dct_type=3)\n",
    "        return mfcc, label\n",
    "        "
   ]
  },
  {
   "cell_type": "code",
   "execution_count": 26,
   "metadata": {},
   "outputs": [],
   "source": [
    "dataset = MFCCDataset(TRAIN_DIR)\n",
    "train_dataset, validation_dataset = random_split(dataset, [0.8, 0.2])\n",
    "train_dataloader = DataLoader(train_dataset, batch_size = 64, shuffle=True)\n",
    "validation_dataset = DataLoader(validation_dataset, batch_size = 64, shuffle=True)"
   ]
  },
  {
   "cell_type": "code",
   "execution_count": 25,
   "metadata": {},
   "outputs": [
    {
     "data": {
      "text/plain": [
       "<matplotlib.collections.QuadMesh at 0x18961713290>"
      ]
     },
     "execution_count": 25,
     "metadata": {},
     "output_type": "execute_result"
    },
    {
     "data": {
      "image/png": "[encoded data removed]",
      "text/plain": [
       "<Figure size 640x480 with 1 Axes>"
      ]
     },
     "metadata": {},
     "output_type": "display_data"
    }
   ],
   "source": [
    "librosa.display.specshow(train_dataset[0][0]) # dct-type = 2"
   ]
  },
  {
   "cell_type": "code",
   "execution_count": null,
   "metadata": {},
   "outputs": [],
   "source": []
  }
 ],
 "metadata": {
  "kernelspec": {
   "display_name": "Python 3 (ipykernel)",
   "language": "python",
   "name": "python3"
  },
  "language_info": {
   "codemirror_mode": {
    "name": "ipython",
    "version": 3
   },
   "file_extension": ".py",
   "mimetype": "text/x-python",
   "name": "python",
   "nbconvert_exporter": "python",
   "pygments_lexer": "ipython3",
   "version": "3.11.7"
  }
 },
 "nbformat": 4,
 "nbformat_minor": 2
}
